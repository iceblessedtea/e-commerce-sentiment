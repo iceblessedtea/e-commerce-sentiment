{
 "cells": [
  {
   "cell_type": "code",
   "execution_count": 5,
   "id": "e8380abf",
   "metadata": {},
   "outputs": [],
   "source": [
    "from google_play_scraper import app, reviews\n",
    "import pandas as pd\n",
    "import datetime"
   ]
  },
  {
   "cell_type": "code",
   "execution_count": 6,
   "id": "9a843d73",
   "metadata": {},
   "outputs": [
    {
     "name": "stdout",
     "output_type": "stream",
     "text": [
      "jumlah ulasan:  16000\n",
      "contoh ulasan:  {'reviewId': '4541b2fe-7cb6-46b2-9099-ae16c21f9346', 'userName': 'Pengguna Google', 'userImage': 'https://play-lh.googleusercontent.com/EGemoI2NTXmTsBVtJqk8jxF9rh8ApRWfsIMQSt2uE4OcpQqbFu7f7NbTK05lx80nuSijCz7sc3a277R67g', 'content': 'disuruh verifikasi terus', 'score': 1, 'thumbsUpCount': 0, 'reviewCreatedVersion': None, 'at': datetime.datetime(2025, 6, 17, 10, 30, 39), 'replyContent': 'Haii kak As-Syifa Raudhatil Husna.A, maaf sudah bikin ganyaman terkait kendala yang kamu alami. Agar aku bisa bantu cek boleh infoin detail kendala kamu, username dn detail kendala kamu ke DM Social Media kita @Shopee_id / @Shopeecare_id Aku tunggu ^TO', 'repliedAt': datetime.datetime(2025, 6, 17, 11, 9, 26), 'appVersion': None}\n"
     ]
    }
   ],
   "source": [
    "from google_play_scraper import Sort, reviews_all\n",
    "\n",
    "app_id = 'com.shopee.id'\n",
    "\n",
    "def get_reviews(app_id, lang='id', count=16000, sort=Sort.NEWEST, filter_score_with=None, filter_device_with=None, continuation_token=None):\n",
    "    try:\n",
    "        result, continuation_token = reviews(\n",
    "            app_id,\n",
    "            lang=lang,\n",
    "            count=count,\n",
    "            sort=sort,\n",
    "            filter_score_with=filter_score_with,\n",
    "            filter_device_with=filter_device_with,\n",
    "            continuation_token=continuation_token\n",
    "        )\n",
    "        return result, continuation_token\n",
    "    except Exception as e:\n",
    "        print(\"Error: \", e)\n",
    "        return None, None\n",
    "\n",
    "reviews, continuation_token = get_reviews(app_id)\n",
    "\n",
    "if reviews is not None:\n",
    "    print(\"jumlah ulasan: \", len(reviews))\n",
    "    if len(reviews) > 0:\n",
    "        print(\"contoh ulasan: \", reviews[0])\n",
    "else:\n",
    "    print(\"gagal mengambil data ulasan\")\n",
    "    "
   ]
  },
  {
   "cell_type": "code",
   "execution_count": 7,
   "id": "27589b41",
   "metadata": {},
   "outputs": [
    {
     "name": "stdout",
     "output_type": "stream",
     "text": [
      "Data berhasil disimpan ke dalam file csv\n"
     ]
    }
   ],
   "source": [
    "import csv\n",
    "\n",
    "def save_to_csv(reviews, filename='scraping-playstore_tiktok.csv'):\n",
    "    if reviews:\n",
    "        fieldnames = ['reviewId', 'userName', 'Rating', 'Review Text', 'Date']\n",
    "        \n",
    "        with open(filename, mode='w', newline='', encoding='utf-8') as csv_file:\n",
    "            writer = csv.DictWriter(csv_file, fieldnames=fieldnames)\n",
    "            writer.writeheader()\n",
    "            \n",
    "            for review in reviews:\n",
    "                writer.writerow({\n",
    "                    'reviewId': review['reviewId'],\n",
    "                    'userName': review['userName'],\n",
    "                    'Rating': review['score'],\n",
    "                    'Review Text': review['content'],\n",
    "                    'Date': review['at']\n",
    "                })\n",
    "        print(\"Data berhasil disimpan ke dalam file csv\")\n",
    "    else:    \n",
    "        print(\"Data ulasan kosong\")\n",
    "        \n",
    "save_to_csv(reviews)"
   ]
  },
  {
   "cell_type": "code",
   "execution_count": 9,
   "id": "2288075d",
   "metadata": {},
   "outputs": [
    {
     "data": {
      "text/html": [
       "<div>\n",
       "<style scoped>\n",
       "    .dataframe tbody tr th:only-of-type {\n",
       "        vertical-align: middle;\n",
       "    }\n",
       "\n",
       "    .dataframe tbody tr th {\n",
       "        vertical-align: top;\n",
       "    }\n",
       "\n",
       "    .dataframe thead th {\n",
       "        text-align: right;\n",
       "    }\n",
       "</style>\n",
       "<table border=\"1\" class=\"dataframe\">\n",
       "  <thead>\n",
       "    <tr style=\"text-align: right;\">\n",
       "      <th></th>\n",
       "      <th>reviewId</th>\n",
       "      <th>userName</th>\n",
       "      <th>Rating</th>\n",
       "      <th>Review Text</th>\n",
       "      <th>Date</th>\n",
       "    </tr>\n",
       "  </thead>\n",
       "  <tbody>\n",
       "    <tr>\n",
       "      <th>0</th>\n",
       "      <td>4541b2fe-7cb6-46b2-9099-ae16c21f9346</td>\n",
       "      <td>Pengguna Google</td>\n",
       "      <td>1</td>\n",
       "      <td>disuruh verifikasi terus</td>\n",
       "      <td>2025-06-17 10:30:39</td>\n",
       "    </tr>\n",
       "    <tr>\n",
       "      <th>1</th>\n",
       "      <td>7c6b3ee6-6114-4126-b436-3df732d83f86</td>\n",
       "      <td>Pengguna Google</td>\n",
       "      <td>5</td>\n",
       "      <td>👍</td>\n",
       "      <td>2025-06-17 10:28:19</td>\n",
       "    </tr>\n",
       "    <tr>\n",
       "      <th>2</th>\n",
       "      <td>5bbb09de-7fff-4c8a-a94e-5605f8d6d33a</td>\n",
       "      <td>Pengguna Google</td>\n",
       "      <td>5</td>\n",
       "      <td>murah murah banget</td>\n",
       "      <td>2025-06-17 10:26:44</td>\n",
       "    </tr>\n",
       "    <tr>\n",
       "      <th>3</th>\n",
       "      <td>03f9ec32-4d1f-4313-afa3-e3a91b16c873</td>\n",
       "      <td>Pengguna Google</td>\n",
       "      <td>5</td>\n",
       "      <td>joss surabaya</td>\n",
       "      <td>2025-06-17 10:26:31</td>\n",
       "    </tr>\n",
       "    <tr>\n",
       "      <th>4</th>\n",
       "      <td>1801bea4-c7a8-4000-8347-f382c84b00bb</td>\n",
       "      <td>Pengguna Google</td>\n",
       "      <td>5</td>\n",
       "      <td>bermanfaat;)</td>\n",
       "      <td>2025-06-17 10:26:06</td>\n",
       "    </tr>\n",
       "  </tbody>\n",
       "</table>\n",
       "</div>"
      ],
      "text/plain": [
       "                               reviewId         userName  Rating  \\\n",
       "0  4541b2fe-7cb6-46b2-9099-ae16c21f9346  Pengguna Google       1   \n",
       "1  7c6b3ee6-6114-4126-b436-3df732d83f86  Pengguna Google       5   \n",
       "2  5bbb09de-7fff-4c8a-a94e-5605f8d6d33a  Pengguna Google       5   \n",
       "3  03f9ec32-4d1f-4313-afa3-e3a91b16c873  Pengguna Google       5   \n",
       "4  1801bea4-c7a8-4000-8347-f382c84b00bb  Pengguna Google       5   \n",
       "\n",
       "                Review Text                 Date  \n",
       "0  disuruh verifikasi terus  2025-06-17 10:30:39  \n",
       "1                         👍  2025-06-17 10:28:19  \n",
       "2        murah murah banget  2025-06-17 10:26:44  \n",
       "3             joss surabaya  2025-06-17 10:26:31  \n",
       "4              bermanfaat;)  2025-06-17 10:26:06  "
      ]
     },
     "execution_count": 9,
     "metadata": {},
     "output_type": "execute_result"
    }
   ],
   "source": [
    "df = pd.read_csv('scraping-shopee.csv')\n",
    "df.head()"
   ]
  },
  {
   "cell_type": "code",
   "execution_count": 10,
   "id": "72b3b1ce",
   "metadata": {},
   "outputs": [
    {
     "name": "stdout",
     "output_type": "stream",
     "text": [
      "<class 'pandas.core.frame.DataFrame'>\n",
      "RangeIndex: 16000 entries, 0 to 15999\n",
      "Data columns (total 5 columns):\n",
      " #   Column       Non-Null Count  Dtype \n",
      "---  ------       --------------  ----- \n",
      " 0   reviewId     16000 non-null  object\n",
      " 1   userName     16000 non-null  object\n",
      " 2   Rating       16000 non-null  int64 \n",
      " 3   Review Text  16000 non-null  object\n",
      " 4   Date         16000 non-null  object\n",
      "dtypes: int64(1), object(4)\n",
      "memory usage: 625.1+ KB\n"
     ]
    }
   ],
   "source": [
    "df.info()"
   ]
  },
  {
   "cell_type": "code",
   "execution_count": null,
   "id": "6fbe24c4",
   "metadata": {},
   "outputs": [],
   "source": []
  }
 ],
 "metadata": {
  "kernelspec": {
   "display_name": "Python 3",
   "language": "python",
   "name": "python3"
  },
  "language_info": {
   "codemirror_mode": {
    "name": "ipython",
    "version": 3
   },
   "file_extension": ".py",
   "mimetype": "text/x-python",
   "name": "python",
   "nbconvert_exporter": "python",
   "pygments_lexer": "ipython3",
   "version": "3.12.8"
  }
 },
 "nbformat": 4,
 "nbformat_minor": 5
}
